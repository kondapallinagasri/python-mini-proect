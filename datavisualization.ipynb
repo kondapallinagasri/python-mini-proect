{
 "cells": [
  {
   "cell_type": "code",
   "execution_count": 26,
   "id": "f9459fba-c0f5-40bf-96b2-dddb8fd66196",
   "metadata": {},
   "outputs": [],
   "source": [
    "import openpyxl\n",
    "import pandas as pd\n",
    "\n",
    "workbook = openpyxl.Workbook()\n",
    "sheet = workbook.active\n",
    "\n",
    "data = [\n",
    "    ['NAME','DOMAIN','AGE','LOCATION','SALARY','EXP'],\n",
    "    ['ALEX','TESTING',25,'BNG',5000,2],\n",
    "    ['BARB','JAVA',30,'CHE',10000,3],\n",
    "    ['CHERRY','C',35,'PUNE',15000,4],\n",
    "    ['DIPAN','DA',38,'MUMBAI',2000,5],\n",
    "    ['ESWAR','DS',40,'HYD',50000,6]\n",
    "]\n",
    "for row in data:\n",
    "    sheet.append(row)\n",
    "\n",
    "workbook.save('data.xlsx')"
   ]
  },
  {
   "cell_type": "code",
   "execution_count": 28,
   "id": "f50bffd6-33b0-4f92-bda4-912daa55a54f",
   "metadata": {},
   "outputs": [
    {
     "data": {
      "text/plain": [
       "[['NAME', 'DOMAIN', 'AGE', 'LOCATION', 'SALARY', 'EXP'],\n",
       " ['ALEX', 'TESTING', 25, 'BNG', 5000, 2],\n",
       " ['BARB', 'JAVA', 30, 'CHE', 10000, 3],\n",
       " ['CHERRY', 'C', 35, 'PUNE', 15000, 4],\n",
       " ['DIPAN', 'DA', 38, 'MUMBAI', 2000, 5],\n",
       " ['ESWAR', 'DS', 40, 'HYD', 50000, 6]]"
      ]
     },
     "execution_count": 28,
     "metadata": {},
     "output_type": "execute_result"
    }
   ],
   "source": [
    "data"
   ]
  },
  {
   "cell_type": "code",
   "execution_count": 30,
   "id": "452d3127-d3e7-4f93-8d97-65304b59395d",
   "metadata": {},
   "outputs": [
    {
     "data": {
      "text/plain": [
       "'C:\\\\Users\\\\phani'"
      ]
     },
     "execution_count": 30,
     "metadata": {},
     "output_type": "execute_result"
    }
   ],
   "source": [
    "import os\n",
    "os.getcwd()"
   ]
  },
  {
   "cell_type": "code",
   "execution_count": 32,
   "id": "5162fd90-b7de-48af-b2d4-762362a88c9a",
   "metadata": {},
   "outputs": [
    {
     "data": {
      "text/html": [
       "<div>\n",
       "<style scoped>\n",
       "    .dataframe tbody tr th:only-of-type {\n",
       "        vertical-align: middle;\n",
       "    }\n",
       "\n",
       "    .dataframe tbody tr th {\n",
       "        vertical-align: top;\n",
       "    }\n",
       "\n",
       "    .dataframe thead th {\n",
       "        text-align: right;\n",
       "    }\n",
       "</style>\n",
       "<table border=\"1\" class=\"dataframe\">\n",
       "  <thead>\n",
       "    <tr style=\"text-align: right;\">\n",
       "      <th></th>\n",
       "      <th>NAME</th>\n",
       "      <th>DOMAIN</th>\n",
       "      <th>AGE</th>\n",
       "      <th>LOCATION</th>\n",
       "      <th>SALARY</th>\n",
       "      <th>EXP</th>\n",
       "    </tr>\n",
       "  </thead>\n",
       "  <tbody>\n",
       "    <tr>\n",
       "      <th>0</th>\n",
       "      <td>ALEX</td>\n",
       "      <td>TESTING</td>\n",
       "      <td>25</td>\n",
       "      <td>BNG</td>\n",
       "      <td>5000</td>\n",
       "      <td>2</td>\n",
       "    </tr>\n",
       "    <tr>\n",
       "      <th>1</th>\n",
       "      <td>BARB</td>\n",
       "      <td>JAVA</td>\n",
       "      <td>30</td>\n",
       "      <td>CHE</td>\n",
       "      <td>10000</td>\n",
       "      <td>3</td>\n",
       "    </tr>\n",
       "    <tr>\n",
       "      <th>2</th>\n",
       "      <td>CHERRY</td>\n",
       "      <td>C</td>\n",
       "      <td>35</td>\n",
       "      <td>PUNE</td>\n",
       "      <td>15000</td>\n",
       "      <td>4</td>\n",
       "    </tr>\n",
       "    <tr>\n",
       "      <th>3</th>\n",
       "      <td>DIPAN</td>\n",
       "      <td>DA</td>\n",
       "      <td>38</td>\n",
       "      <td>MUMBAI</td>\n",
       "      <td>2000</td>\n",
       "      <td>5</td>\n",
       "    </tr>\n",
       "    <tr>\n",
       "      <th>4</th>\n",
       "      <td>ESWAR</td>\n",
       "      <td>DS</td>\n",
       "      <td>40</td>\n",
       "      <td>HYD</td>\n",
       "      <td>50000</td>\n",
       "      <td>6</td>\n",
       "    </tr>\n",
       "  </tbody>\n",
       "</table>\n",
       "</div>"
      ],
      "text/plain": [
       "     NAME   DOMAIN  AGE LOCATION  SALARY  EXP\n",
       "0    ALEX  TESTING   25      BNG    5000    2\n",
       "1    BARB     JAVA   30      CHE   10000    3\n",
       "2  CHERRY        C   35     PUNE   15000    4\n",
       "3   DIPAN       DA   38   MUMBAI    2000    5\n",
       "4   ESWAR       DS   40      HYD   50000    6"
      ]
     },
     "execution_count": 32,
     "metadata": {},
     "output_type": "execute_result"
    }
   ],
   "source": [
    "emp = pd.read_excel(r'C:\\\\Users\\\\phani\\\\data.xlsx')\n",
    "emp"
   ]
  },
  {
   "cell_type": "code",
   "execution_count": 34,
   "id": "b558ba98-3783-45d9-b6f0-ec8932349619",
   "metadata": {},
   "outputs": [
    {
     "data": {
      "text/plain": [
       "(5, 6)"
      ]
     },
     "execution_count": 34,
     "metadata": {},
     "output_type": "execute_result"
    }
   ],
   "source": [
    "emp.shape"
   ]
  },
  {
   "cell_type": "code",
   "execution_count": 36,
   "id": "171e24e5-7661-4f82-9029-7b3f12901950",
   "metadata": {},
   "outputs": [
    {
     "data": {
      "text/plain": [
       "Index(['NAME', 'DOMAIN', 'AGE', 'LOCATION', 'SALARY', 'EXP'], dtype='object')"
      ]
     },
     "execution_count": 36,
     "metadata": {},
     "output_type": "execute_result"
    }
   ],
   "source": [
    "emp.columns"
   ]
  },
  {
   "cell_type": "code",
   "execution_count": 38,
   "id": "6ed3cd7f-ab3d-40fc-bbac-fb6672de43d1",
   "metadata": {},
   "outputs": [
    {
     "data": {
      "text/plain": [
       "6"
      ]
     },
     "execution_count": 38,
     "metadata": {},
     "output_type": "execute_result"
    }
   ],
   "source": [
    "len(emp.columns)"
   ]
  },
  {
   "cell_type": "code",
   "execution_count": 40,
   "id": "1fb924da-73b6-47d9-a767-f6d7ea6557ad",
   "metadata": {},
   "outputs": [
    {
     "data": {
      "text/plain": [
       "5"
      ]
     },
     "execution_count": 40,
     "metadata": {},
     "output_type": "execute_result"
    }
   ],
   "source": [
    "len(emp)"
   ]
  },
  {
   "cell_type": "code",
   "execution_count": 42,
   "id": "7d8f7588-78c8-41d8-94eb-5543ab465a60",
   "metadata": {},
   "outputs": [
    {
     "data": {
      "text/html": [
       "<div>\n",
       "<style scoped>\n",
       "    .dataframe tbody tr th:only-of-type {\n",
       "        vertical-align: middle;\n",
       "    }\n",
       "\n",
       "    .dataframe tbody tr th {\n",
       "        vertical-align: top;\n",
       "    }\n",
       "\n",
       "    .dataframe thead th {\n",
       "        text-align: right;\n",
       "    }\n",
       "</style>\n",
       "<table border=\"1\" class=\"dataframe\">\n",
       "  <thead>\n",
       "    <tr style=\"text-align: right;\">\n",
       "      <th></th>\n",
       "      <th>NAME</th>\n",
       "      <th>DOMAIN</th>\n",
       "      <th>AGE</th>\n",
       "      <th>LOCATION</th>\n",
       "      <th>SALARY</th>\n",
       "      <th>EXP</th>\n",
       "    </tr>\n",
       "  </thead>\n",
       "  <tbody>\n",
       "    <tr>\n",
       "      <th>0</th>\n",
       "      <td>ALEX</td>\n",
       "      <td>TESTING</td>\n",
       "      <td>25</td>\n",
       "      <td>BNG</td>\n",
       "      <td>5000</td>\n",
       "      <td>2</td>\n",
       "    </tr>\n",
       "    <tr>\n",
       "      <th>1</th>\n",
       "      <td>BARB</td>\n",
       "      <td>JAVA</td>\n",
       "      <td>30</td>\n",
       "      <td>CHE</td>\n",
       "      <td>10000</td>\n",
       "      <td>3</td>\n",
       "    </tr>\n",
       "    <tr>\n",
       "      <th>2</th>\n",
       "      <td>CHERRY</td>\n",
       "      <td>C</td>\n",
       "      <td>35</td>\n",
       "      <td>PUNE</td>\n",
       "      <td>15000</td>\n",
       "      <td>4</td>\n",
       "    </tr>\n",
       "    <tr>\n",
       "      <th>3</th>\n",
       "      <td>DIPAN</td>\n",
       "      <td>DA</td>\n",
       "      <td>38</td>\n",
       "      <td>MUMBAI</td>\n",
       "      <td>2000</td>\n",
       "      <td>5</td>\n",
       "    </tr>\n",
       "    <tr>\n",
       "      <th>4</th>\n",
       "      <td>ESWAR</td>\n",
       "      <td>DS</td>\n",
       "      <td>40</td>\n",
       "      <td>HYD</td>\n",
       "      <td>50000</td>\n",
       "      <td>6</td>\n",
       "    </tr>\n",
       "  </tbody>\n",
       "</table>\n",
       "</div>"
      ],
      "text/plain": [
       "     NAME   DOMAIN  AGE LOCATION  SALARY  EXP\n",
       "0    ALEX  TESTING   25      BNG    5000    2\n",
       "1    BARB     JAVA   30      CHE   10000    3\n",
       "2  CHERRY        C   35     PUNE   15000    4\n",
       "3   DIPAN       DA   38   MUMBAI    2000    5\n",
       "4   ESWAR       DS   40      HYD   50000    6"
      ]
     },
     "execution_count": 42,
     "metadata": {},
     "output_type": "execute_result"
    }
   ],
   "source": [
    "emp"
   ]
  },
  {
   "cell_type": "code",
   "execution_count": 44,
   "id": "12977427-d3e0-4e40-906e-291bcc0912bb",
   "metadata": {},
   "outputs": [
    {
     "data": {
      "text/plain": [
       "0     5000\n",
       "1    10000\n",
       "2    15000\n",
       "3     2000\n",
       "4    50000\n",
       "Name: SALARY, dtype: int64"
      ]
     },
     "execution_count": 44,
     "metadata": {},
     "output_type": "execute_result"
    }
   ],
   "source": [
    "emp['SALARY']"
   ]
  },
  {
   "cell_type": "code",
   "execution_count": 46,
   "id": "e5129a7b-ea3e-4054-b14d-2e592517e9bb",
   "metadata": {},
   "outputs": [
    {
     "data": {
      "text/html": [
       "<div>\n",
       "<style scoped>\n",
       "    .dataframe tbody tr th:only-of-type {\n",
       "        vertical-align: middle;\n",
       "    }\n",
       "\n",
       "    .dataframe tbody tr th {\n",
       "        vertical-align: top;\n",
       "    }\n",
       "\n",
       "    .dataframe thead th {\n",
       "        text-align: right;\n",
       "    }\n",
       "</style>\n",
       "<table border=\"1\" class=\"dataframe\">\n",
       "  <thead>\n",
       "    <tr style=\"text-align: right;\">\n",
       "      <th></th>\n",
       "      <th>SALARY</th>\n",
       "      <th>EXP</th>\n",
       "    </tr>\n",
       "  </thead>\n",
       "  <tbody>\n",
       "    <tr>\n",
       "      <th>0</th>\n",
       "      <td>5000</td>\n",
       "      <td>2</td>\n",
       "    </tr>\n",
       "    <tr>\n",
       "      <th>1</th>\n",
       "      <td>10000</td>\n",
       "      <td>3</td>\n",
       "    </tr>\n",
       "    <tr>\n",
       "      <th>2</th>\n",
       "      <td>15000</td>\n",
       "      <td>4</td>\n",
       "    </tr>\n",
       "    <tr>\n",
       "      <th>3</th>\n",
       "      <td>2000</td>\n",
       "      <td>5</td>\n",
       "    </tr>\n",
       "    <tr>\n",
       "      <th>4</th>\n",
       "      <td>50000</td>\n",
       "      <td>6</td>\n",
       "    </tr>\n",
       "  </tbody>\n",
       "</table>\n",
       "</div>"
      ],
      "text/plain": [
       "   SALARY  EXP\n",
       "0    5000    2\n",
       "1   10000    3\n",
       "2   15000    4\n",
       "3    2000    5\n",
       "4   50000    6"
      ]
     },
     "execution_count": 46,
     "metadata": {},
     "output_type": "execute_result"
    }
   ],
   "source": [
    "emp[['SALARY','EXP']]"
   ]
  },
  {
   "cell_type": "code",
   "execution_count": 48,
   "id": "29f35d26-264b-4265-876b-0ad9bebcea19",
   "metadata": {},
   "outputs": [],
   "source": [
    "import numpy as np\n",
    "import matplotlib.pyplot as plt\n",
    "import seaborn as sns"
   ]
  },
  {
   "cell_type": "code",
   "execution_count": 51,
   "id": "04383a70-532f-4b19-89f5-6bbff98960a1",
   "metadata": {},
   "outputs": [
    {
     "data": {
      "image/png": "[encoded data removed]",
      "text/plain": [
       "<Figure size 500x500 with 1 Axes>"
      ]
     },
     "metadata": {},
     "output_type": "display_data"
    }
   ],
   "source": [
    "vis1 = sns.displot(emp['SALARY'])"
   ]
  },
  {
   "cell_type": "code",
   "execution_count": 53,
   "id": "5e37fc59-d5d8-483f-8e69-c8764f7261a2",
   "metadata": {},
   "outputs": [
    {
     "name": "stderr",
     "output_type": "stream",
     "text": [
      "C:\\Users\\phani\\AppData\\Local\\Temp\\ipykernel_22996\\826855712.py:1: UserWarning: \n",
      "\n",
      "`distplot` is a deprecated function and will be removed in seaborn v0.14.0.\n",
      "\n",
      "Please adapt your code to use either `displot` (a figure-level function with\n",
      "similar flexibility) or `histplot` (an axes-level function for histograms).\n",
      "\n",
      "For a guide to updating your code to use the new functions, please see\n",
      "https://gist.github.com/mwaskom/de44147ed2974457ad6372750bbe5751\n",
      "\n",
      "  vis2 = sns.distplot(emp['SALARY'])\n"
     ]
    },
    {
     "data": {
      "image/png": "[encoded data removed]",
      "text/plain": [
       "<Figure size 640x480 with 1 Axes>"
      ]
     },
     "metadata": {},
     "output_type": "display_data"
    }
   ],
   "source": [
    "vis2 = sns.distplot(emp['SALARY'])"
   ]
  },
  {
   "cell_type": "code",
   "execution_count": 55,
   "id": "0f65f572-6d4e-427a-9c64-d5f5fae70636",
   "metadata": {},
   "outputs": [
    {
     "data": {
      "image/png": "[encoded data removed]",
      "text/plain": [
       "<Figure size 640x480 with 1 Axes>"
      ]
     },
     "metadata": {},
     "output_type": "display_data"
    }
   ],
   "source": [
    "vis3 = plt.hist(emp['SALARY'])"
   ]
  },
  {
   "cell_type": "code",
   "execution_count": 61,
   "id": "0eadc136-92dc-4474-bebe-00216e468f46",
   "metadata": {},
   "outputs": [],
   "source": [
    "plt.rcParams['figure.figsize']=10,1"
   ]
  },
  {
   "cell_type": "code",
   "execution_count": 63,
   "id": "a51d88f4-1dc6-4f86-998a-60037b1c31c3",
   "metadata": {},
   "outputs": [
    {
     "data": {
      "image/png": "[encoded data removed]",
      "text/plain": [
       "<Figure size 500x500 with 1 Axes>"
      ]
     },
     "metadata": {},
     "output_type": "display_data"
    }
   ],
   "source": [
    "vis5=sns.lmplot(data=emp,x='EXP',y='SALARY')"
   ]
  },
  {
   "cell_type": "code",
   "execution_count": 67,
   "id": "3ef001c6-7a5e-4d04-8a51-a92175bba3de",
   "metadata": {},
   "outputs": [
    {
     "data": {
      "image/png": "[encoded data removed]",
      "text/plain": [
       "<Figure size 500x500 with 1 Axes>"
      ]
     },
     "metadata": {},
     "output_type": "display_data"
    }
   ],
   "source": [
    "vis5=sns.lmplot(data=emp,x='EXP',y='SALARY',fit_reg=True)"
   ]
  },
  {
   "cell_type": "code",
   "execution_count": 69,
   "id": "ef21f5a0-bcc2-431f-92ab-f793dc6f15d7",
   "metadata": {},
   "outputs": [
    {
     "data": {
      "image/png": "[encoded data removed]",
      "text/plain": [
       "<Figure size 500x500 with 1 Axes>"
      ]
     },
     "metadata": {},
     "output_type": "display_data"
    }
   ],
   "source": [
    "vis6=sns.lmplot(data=emp,x='EXP',y='SALARY',fit_reg=False)"
   ]
  },
  {
   "cell_type": "code",
   "execution_count": null,
   "id": "45fca373-a526-41fd-84d0-0039d88bf45d",
   "metadata": {},
   "outputs": [],
   "source": []
  },
  {
   "cell_type": "code",
   "execution_count": null,
   "id": "0ef18e66-3f4e-4c78-afef-d6618693699b",
   "metadata": {},
   "outputs": [],
   "source": []
  },
  {
   "cell_type": "code",
   "execution_count": null,
   "id": "21b7df95-c153-4918-8840-e0466c1df105",
   "metadata": {},
   "outputs": [],
   "source": []
  },
  {
   "cell_type": "code",
   "execution_count": null,
   "id": "617f2e00-44dd-4633-a156-e1521f096e93",
   "metadata": {},
   "outputs": [],
   "source": []
  },
  {
   "cell_type": "code",
   "execution_count": null,
   "id": "f18e1c17-d0e8-4434-b02c-9e79c3acbe7f",
   "metadata": {},
   "outputs": [],
   "source": []
  },
  {
   "cell_type": "code",
   "execution_count": null,
   "id": "8d6db146-95f2-4797-b253-2ed22afc3db7",
   "metadata": {},
   "outputs": [],
   "source": []
  },
  {
   "cell_type": "code",
   "execution_count": null,
   "id": "52dcbdb7-4c7b-4f3b-9680-931498d80d78",
   "metadata": {},
   "outputs": [],
   "source": []
  },
  {
   "cell_type": "code",
   "execution_count": null,
   "id": "4471cb3e-d6e7-4cce-943b-41f08e8fbd56",
   "metadata": {},
   "outputs": [],
   "source": []
  }
 ],
 "metadata": {
  "kernelspec": {
   "display_name": "Python 3 (ipykernel)",
   "language": "python",
   "name": "python3"
  },
  "language_info": {
   "codemirror_mode": {
    "name": "ipython",
    "version": 3
   },
   "file_extension": ".py",
   "mimetype": "text/x-python",
   "name": "python",
   "nbconvert_exporter": "python",
   "pygments_lexer": "ipython3",
   "version": "3.12.7"
  }
 },
 "nbformat": 4,
 "nbformat_minor": 5
}
